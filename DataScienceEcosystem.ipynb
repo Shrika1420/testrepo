{
 "cells": [
  {
   "cell_type": "markdown",
   "id": "6c039f6e",
   "metadata": {},
   "source": [
    " # Data Science Tools and Ecosystem"
   ]
  },
  {
   "cell_type": "markdown",
   "id": "906223a7",
   "metadata": {},
   "source": [
    "## In this notebook, Data Science Tools and Ecosystem are summarized"
   ]
  },
  {
   "cell_type": "markdown",
   "id": "f390ebbf",
   "metadata": {},
   "source": [
    "### Some of the popular languages Data Scientists use are:\n",
    "1. Python\n",
    "2. R\n",
    "3. Julia"
   ]
  },
  {
   "cell_type": "markdown",
   "id": "c0889c0e",
   "metadata": {},
   "source": [
    "## Some of the commonly used libraries used by Data Scientists include:\n",
    "1. Pandas\n",
    "2. ggplot\n",
    "3. caret"
   ]
  },
  {
   "cell_type": "markdown",
   "id": "f9b552f8",
   "metadata": {},
   "source": [
    "|Data Science Tools|\n",
    "|-----------------|\n",
    "|Jupyter Notebooks|\n",
    "|Rstudio|\n",
    "|Jupyter Labs|"
   ]
  },
  {
   "cell_type": "markdown",
   "id": "d36e5953",
   "metadata": {},
   "source": [
    "### Below are a few examples of evaluating arithmetic expressions in Python:"
   ]
  },
  {
   "cell_type": "code",
   "execution_count": 1,
   "id": "3f28fcb9",
   "metadata": {},
   "outputs": [
    {
     "data": {
      "text/plain": [
       "17"
      ]
     },
     "execution_count": 1,
     "metadata": {},
     "output_type": "execute_result"
    }
   ],
   "source": [
    "# This is a simple arithmetic expression to multiply then add the integers\n",
    "(3*4)+5"
   ]
  },
  {
   "cell_type": "code",
   "execution_count": 2,
   "id": "bfe0b15c",
   "metadata": {},
   "outputs": [
    {
     "data": {
      "text/plain": [
       "3.3333333333333335"
      ]
     },
     "execution_count": 2,
     "metadata": {},
     "output_type": "execute_result"
    }
   ],
   "source": [
    "# This will convert 200 minutes to hours by dividing by 60\n",
    "200/60"
   ]
  },
  {
   "cell_type": "markdown",
   "id": "bae781fe",
   "metadata": {},
   "source": [
    "# **Objectives:**\n",
    "* Jupyter Notebooks is an open source free software easy to use IDE.\n",
    "* It supports many other languages like R, Julia etc.\n",
    "* It is used to record Data Science experiments\n",
    "* It originated as ipython"
   ]
  },
  {
   "cell_type": "markdown",
   "id": "54181df5",
   "metadata": {},
   "source": [
    "## Author:\n",
    "Shrika Kamajdar"
   ]
  },
  {
   "cell_type": "code",
   "execution_count": null,
   "id": "d3a3e297",
   "metadata": {},
   "outputs": [],
   "source": []
  }
 ],
 "metadata": {
  "kernelspec": {
   "display_name": "Python 3 (ipykernel)",
   "language": "python",
   "name": "python3"
  },
  "language_info": {
   "codemirror_mode": {
    "name": "ipython",
    "version": 3
   },
   "file_extension": ".py",
   "mimetype": "text/x-python",
   "name": "python",
   "nbconvert_exporter": "python",
   "pygments_lexer": "ipython3",
   "version": "3.9.12"
  }
 },
 "nbformat": 4,
 "nbformat_minor": 5
}
